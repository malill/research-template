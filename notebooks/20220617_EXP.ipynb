{
 "cells": [
  {
   "cell_type": "markdown",
   "source": [
    "# Example Notebook"
   ],
   "metadata": {
    "collapsed": false,
    "pycharm": {
     "name": "#%% md\n"
    }
   }
  },
  {
   "cell_type": "code",
   "execution_count": 1,
   "outputs": [],
   "source": [
    "# This will reload modules when cells are executed\n",
    "%load_ext autoreload\n",
    "%autoreload 2"
   ],
   "metadata": {
    "collapsed": false,
    "pycharm": {
     "name": "#%%\n"
    }
   }
  },
  {
   "cell_type": "markdown",
   "source": [
    "Code chunks should be stored in modules."
   ],
   "metadata": {
    "collapsed": false,
    "pycharm": {
     "name": "#%% md\n"
    }
   }
  },
  {
   "cell_type": "code",
   "execution_count": 2,
   "outputs": [
    {
     "name": "stdout",
     "output_type": "stream",
     "text": [
      "This is the world we live in...\n"
     ]
    }
   ],
   "source": [
    "from src_py import my_world\n",
    "\n",
    "my_world.hello_world()"
   ],
   "metadata": {
    "collapsed": false,
    "pycharm": {
     "name": "#%%\n"
    }
   }
  },
  {
   "cell_type": "markdown",
   "source": [
    "## Using Tensorflow\n",
    "\n",
    "Tensorflow uses (NVIDIA) GPU support by default (see https://www.tensorflow.org/guide/gpu)."
   ],
   "metadata": {
    "collapsed": false,
    "pycharm": {
     "name": "#%% md\n"
    }
   }
  },
  {
   "cell_type": "code",
   "execution_count": 3,
   "outputs": [
    {
     "name": "stdout",
     "output_type": "stream",
     "text": [
      "2.8.0\n"
     ]
    }
   ],
   "source": [
    "import tensorflow as tf\n",
    "\n",
    "print(tf.__version__)"
   ],
   "metadata": {
    "collapsed": false,
    "pycharm": {
     "name": "#%%\n"
    }
   }
  },
  {
   "cell_type": "code",
   "execution_count": 4,
   "outputs": [
    {
     "name": "stdout",
     "output_type": "stream",
     "text": [
      "300/300 [==============================] - 32s 105ms/step - loss: 1.4459 - accuracy: 0.6557\n",
      "313/313 [==============================] - 3s 10ms/step - loss: 0.4652 - accuracy: 0.8784\n",
      "Test accuracy: 0.8784000277519226\n",
      "\n",
      "Time taken on the CPU: 0:00:35.319274\n",
      "300/300 [==============================] - 34s 112ms/step - loss: 1.4298 - accuracy: 0.6524\n",
      "313/313 [==============================] - 3s 8ms/step - loss: 0.4857 - accuracy: 0.8705\n",
      "Test accuracy: 0.8705000281333923\n",
      "\n",
      "Time taken on the GPU: 0:00:37.317709\n"
     ]
    }
   ],
   "source": [
    "from src_py.my_world import tf_test\n",
    "\n",
    "# CPU test\n",
    "tf_test('CPU')\n",
    "# GPU test\n",
    "tf_test('GPU')"
   ],
   "metadata": {
    "collapsed": false,
    "pycharm": {
     "name": "#%%\n"
    }
   }
  }
 ],
 "metadata": {
  "kernelspec": {
   "name": "pycharm-17b3588",
   "language": "python",
   "display_name": "PyCharm (ml-template)"
  },
  "language_info": {
   "codemirror_mode": {
    "name": "ipython",
    "version": 2
   },
   "file_extension": ".py",
   "mimetype": "text/x-python",
   "name": "python",
   "nbconvert_exporter": "python",
   "pygments_lexer": "ipython2",
   "version": "2.7.6"
  }
 },
 "nbformat": 4,
 "nbformat_minor": 0
}