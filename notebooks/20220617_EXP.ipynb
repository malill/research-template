{
 "cells": [
  {
   "cell_type": "markdown",
   "metadata": {
    "collapsed": false,
    "pycharm": {
     "name": "#%% md\n"
    }
   },
   "source": [
    "# Example Notebook"
   ]
  },
  {
   "cell_type": "code",
   "execution_count": 1,
   "metadata": {
    "collapsed": false,
    "pycharm": {
     "name": "#%%\n"
    }
   },
   "outputs": [],
   "source": [
    "# This will reload modules when cells are executed\n",
    "%load_ext autoreload\n",
    "%autoreload 2"
   ]
  },
  {
   "cell_type": "markdown",
   "metadata": {
    "collapsed": false,
    "pycharm": {
     "name": "#%% md\n"
    }
   },
   "source": [
    "Code chunks should be stored in modules."
   ]
  },
  {
   "cell_type": "code",
   "execution_count": 2,
   "metadata": {
    "collapsed": false,
    "pycharm": {
     "name": "#%%\n"
    }
   },
   "outputs": [
    {
     "name": "stdout",
     "output_type": "stream",
     "text": [
      "This is the world we live in...\n"
     ]
    }
   ],
   "source": [
    "from srcPy import my_world\n",
    "\n",
    "my_world.hello_world()"
   ]
  },
  {
   "cell_type": "markdown",
   "metadata": {
    "collapsed": false,
    "pycharm": {
     "name": "#%% md\n"
    }
   },
   "source": [
    "## Using Tensorflow\n",
    "\n",
    "Tensorflow uses (NVIDIA) GPU support by default (see https://www.tensorflow.org/guide/gpu)."
   ]
  },
  {
   "cell_type": "code",
   "execution_count": 3,
   "metadata": {
    "collapsed": false,
    "pycharm": {
     "name": "#%%\n"
    }
   },
   "outputs": [
    {
     "name": "stdout",
     "output_type": "stream",
     "text": [
      "2.9.1\n"
     ]
    }
   ],
   "source": [
    "import tensorflow as tf\n",
    "\n",
    "print(tf.__version__)"
   ]
  },
  {
   "cell_type": "code",
   "execution_count": 5,
   "metadata": {
    "collapsed": false,
    "pycharm": {
     "name": "#%%\n"
    }
   },
   "outputs": [
    {
     "name": "stdout",
     "output_type": "stream",
     "text": [
      "300/300 [==============================] - 11s 37ms/step - loss: 1.3439 - accuracy: 0.6837\n",
      "313/313 [==============================] - 1s 3ms/step - loss: 0.4416 - accuracy: 0.8850\n",
      "Test accuracy: 0.8849999904632568\n",
      "\n",
      "Time taken on the CPU: 0:00:12.330138\n",
      "300/300 [==============================] - 2s 5ms/step - loss: 1.3759 - accuracy: 0.6749\n",
      "313/313 [==============================] - 1s 3ms/step - loss: 0.4638 - accuracy: 0.8758\n",
      "Test accuracy: 0.8758000135421753\n",
      "\n",
      "Time taken on the GPU: 0:00:02.707222\n"
     ]
    }
   ],
   "source": [
    "from src_py.my_world import tf_test\n",
    "\n",
    "# CPU test\n",
    "tf_test('CPU')\n",
    "# GPU test\n",
    "tf_test('GPU')"
   ]
  }
 ],
 "metadata": {
  "kernelspec": {
   "display_name": "Python 3 (ipykernel)",
   "language": "python",
   "name": "python3"
  },
  "language_info": {
   "codemirror_mode": {
    "name": "ipython",
    "version": 2
   },
   "file_extension": ".py",
   "mimetype": "text/x-python",
   "name": "python",
   "nbconvert_exporter": "python",
   "pygments_lexer": "ipython2",
   "version": "2.7.6"
  }
 },
 "nbformat": 4,
 "nbformat_minor": 0
}
